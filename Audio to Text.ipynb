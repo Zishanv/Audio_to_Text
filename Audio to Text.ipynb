{
 "cells": [
  {
   "cell_type": "markdown",
   "id": "1e898f22",
   "metadata": {},
   "source": [
    "## Converting Audio file to Text file\n",
    "\n",
    "I have always been very curious about converting my presentations or speech into text so I can easily count the number of times I use words like 'um...' or ' you know..' or observe the words that I use most frequently so I tried using Python to convert a draft podcast that I had recorded and converted into text - and I was mindblowned\n",
    "\n",
    "Taking this a little further, I am now thinking how I can covert my coversation with my clients and turn them into text so I can easily do some analysis\n",
    "\n"
   ]
  },
  {
   "cell_type": "code",
   "execution_count": 18,
   "id": "26249554",
   "metadata": {},
   "outputs": [
    {
     "name": "stdout",
     "output_type": "stream",
     "text": [
      "\n",
      "\n"
     ]
    }
   ],
   "source": [
    "print(\"\\n\")"
   ]
  },
  {
   "cell_type": "code",
   "execution_count": 40,
   "id": "ba5e97df",
   "metadata": {},
   "outputs": [],
   "source": [
    "#importing necessary libraries\n",
    "import speech_recognition as sr # python library that allows you to perform speech recongnition tasks.\n",
    "                                #In this case, I will be converting audio files into text\n",
    "from pydub import AudioSegment # converts different audio formats\n",
    "\n",
    "def audio_to_text(audio_file, duration=10): # setting the parameters needed for conversion. \n",
    "                                            # I set the default duration to 10 seconds for testing purposes\n",
    "                        \n",
    "    r = sr.Recognizer() # creating an instance for Recongnizer\n",
    "    \n",
    "    #converting my source file from mp3 to wav\n",
    "    wav_file = \"audio.wav\" \n",
    "    \n",
    "    # This library to convert mp3 file to wav file, and I exported it to my drive but it's not neccessary\n",
    "    AudioSegment.from_mp3(audio_file).export(wav_file, format=\"wav\") \n",
    "    \n",
    "    #Once audio source is converted into wav file, we can record using the speech_recongnition library\n",
    "    with sr.AudioFile(wav_file) as source:\n",
    "        audio = r.record(source, duration=duration) \n",
    "\n",
    "    # Convets the recording into text using Google's Web Speech API\n",
    "        text = r.recognize_google(audio)\n",
    "\n",
    "    return text\n",
    "\n"
   ]
  },
  {
   "cell_type": "markdown",
   "id": "d9da7c7b",
   "metadata": {},
   "source": [
    "## Testing Audio file"
   ]
  },
  {
   "cell_type": "code",
   "execution_count": null,
   "id": "0aa8baac",
   "metadata": {},
   "outputs": [],
   "source": [
    "# audio_file='Test_Recording.mp3' # Selecting the audio file to be converted into text\n",
    "transcription=audio_to_text(audio_file,duration=20) # calling my function above and coverting my mp3 file into wav file. I also wanted to record 20 seconds of the audio instead of the deafult 10 seconds\n",
    "print(transcription) "
   ]
  }
 ],
 "metadata": {
  "kernelspec": {
   "display_name": "Python 3 (ipykernel)",
   "language": "python",
   "name": "python3"
  },
  "language_info": {
   "codemirror_mode": {
    "name": "ipython",
    "version": 3
   },
   "file_extension": ".py",
   "mimetype": "text/x-python",
   "name": "python",
   "nbconvert_exporter": "python",
   "pygments_lexer": "ipython3",
   "version": "3.9.13"
  }
 },
 "nbformat": 4,
 "nbformat_minor": 5
}
