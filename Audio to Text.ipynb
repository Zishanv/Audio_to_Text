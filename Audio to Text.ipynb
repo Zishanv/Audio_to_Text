{
 "cells": [
  {
   "cell_type": "markdown",
   "id": "ccd9ef1b",
   "metadata": {},
   "source": [
    "## Converting Audio file to Text file\n",
    "\n",
    "I have always been very curious about converting my presentations or speech into text so I can easily count the number of times I use words like 'um...' or ' you know..' or observe the words that I use most frequently so I tried using Python to convert a draft podcast that I had recorded and converted into text - and I was mindblowned\n",
    "\n",
    "Taking this a little further, I am now thinking how I can covert my conversations with clients and instead of listening to th\n"
   ]
  },
  {
   "cell_type": "code",
   "execution_count": null,
   "id": "47af53d2",
   "metadata": {},
   "outputs": [],
   "source": [
    "import speech_recognition as sr\n",
    "from pydub import AudioSegment\n",
    "\n",
    "# Initialize the recognizer\n",
    "r = sr.Recognizer()\n",
    "\n",
    "# Load the audio file\n",
    "audio_file = \"Podcast_1.mp3\"\n",
    "\n",
    "# Convert MP3 to WAV format\n",
    "wav_file = \"Podcast_1.wav\"\n",
    "AudioSegment.from_mp3(audio_file).export(wav_file, format=\"wav\")\n",
    "\n",
    "with sr.AudioFile(wav_file) as source:\n",
    "    # Read the entire audio file\n",
    "    audio = r.record(source)\n",
    "\n",
    "    # Convert audio to text\n",
    "    text = r.recognize_google(audio)\n",
    "\n",
    "# Print the converted text\n",
    "print(text)\n"
   ]
  },
  {
   "cell_type": "code",
   "execution_count": null,
   "id": "32340042",
   "metadata": {},
   "outputs": [],
   "source": []
  },
  {
   "cell_type": "code",
   "execution_count": null,
   "id": "a940351e",
   "metadata": {},
   "outputs": [],
   "source": []
  },
  {
   "cell_type": "code",
   "execution_count": null,
   "id": "b09ba4f8",
   "metadata": {},
   "outputs": [],
   "source": []
  }
 ],
 "metadata": {
  "kernelspec": {
   "display_name": "Python 3 (ipykernel)",
   "language": "python",
   "name": "python3"
  },
  "language_info": {
   "codemirror_mode": {
    "name": "ipython",
    "version": 3
   },
   "file_extension": ".py",
   "mimetype": "text/x-python",
   "name": "python",
   "nbconvert_exporter": "python",
   "pygments_lexer": "ipython3",
   "version": "3.9.13"
  }
 },
 "nbformat": 4,
 "nbformat_minor": 5
}
